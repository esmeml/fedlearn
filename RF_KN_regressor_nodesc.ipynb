{
 "cells": [
  {
   "cell_type": "code",
   "execution_count": 2,
   "metadata": {},
   "outputs": [],
   "source": [
    "import pandas as pd\n",
    "from sklearn.neural_network import MLPClassifier\n",
    "from sklearn.svm import SVC\n",
    "from sklearn.model_selection import train_test_split\n",
    "from sklearn.ensemble import RandomForestRegressor\n",
    "from sklearn.neighbors import KNeighborsRegressor\n",
    "from sklearn.linear_model import LinearRegression\n",
    "from sklearn.metrics import mean_squared_error as MSE\n",
    "from sklearn.metrics import r2_score\n",
    "from sklearn.metrics import confusion_matrix\n",
    "from sklearn.metrics import accuracy_score, confusion_matrix\n",
    "from sklearn import preprocessing\n",
    "from matplotlib import pyplot\n",
    "from datetime import datetime\n",
    "\n",
    "\n",
    "\n",
    "videos = pd.read_csv(\"FRvideos.csv\")\n"
   ]
  },
  {
   "cell_type": "code",
   "execution_count": 3,
   "metadata": {},
   "outputs": [
    {
     "data": {
      "text/html": [
       "<div>\n",
       "<style scoped>\n",
       "    .dataframe tbody tr th:only-of-type {\n",
       "        vertical-align: middle;\n",
       "    }\n",
       "\n",
       "    .dataframe tbody tr th {\n",
       "        vertical-align: top;\n",
       "    }\n",
       "\n",
       "    .dataframe thead th {\n",
       "        text-align: right;\n",
       "    }\n",
       "</style>\n",
       "<table border=\"1\" class=\"dataframe\">\n",
       "  <thead>\n",
       "    <tr style=\"text-align: right;\">\n",
       "      <th></th>\n",
       "      <th>index</th>\n",
       "      <th>trending_date</th>\n",
       "      <th>title</th>\n",
       "      <th>channel_title</th>\n",
       "      <th>category_id</th>\n",
       "      <th>publish_time</th>\n",
       "      <th>tags</th>\n",
       "      <th>views</th>\n",
       "      <th>comments_disabled</th>\n",
       "      <th>ratings_disabled</th>\n",
       "    </tr>\n",
       "  </thead>\n",
       "  <tbody>\n",
       "    <tr>\n",
       "      <th>0</th>\n",
       "      <td>3398</td>\n",
       "      <td>17.01.12</td>\n",
       "      <td>Avengers : Infinity War - Première bande-annon...</td>\n",
       "      <td>Marvel FR</td>\n",
       "      <td>1</td>\n",
       "      <td>2017-11-29T13:26:16.000Z</td>\n",
       "      <td>Marvel\"|\"avengers infinity war\"|\"avengers 4\"|\"...</td>\n",
       "      <td>527655</td>\n",
       "      <td>False</td>\n",
       "      <td>False</td>\n",
       "    </tr>\n",
       "    <tr>\n",
       "      <th>1</th>\n",
       "      <td>3526</td>\n",
       "      <td>17.01.12</td>\n",
       "      <td>NBA EXTRA DÉBARQUE CHEZ FIRST TEAM ! NBA First...</td>\n",
       "      <td>FIRST TEAM</td>\n",
       "      <td>17</td>\n",
       "      <td>2017-11-30T16:56:25.000Z</td>\n",
       "      <td>first team\"|\"basket ball\"|\"basket\"|\"nba\"|\"dunk...</td>\n",
       "      <td>22867</td>\n",
       "      <td>False</td>\n",
       "      <td>False</td>\n",
       "    </tr>\n",
       "    <tr>\n",
       "      <th>2</th>\n",
       "      <td>3527</td>\n",
       "      <td>17.01.12</td>\n",
       "      <td>Beni Affet 1266. Bölüm</td>\n",
       "      <td>Beni Affet</td>\n",
       "      <td>1</td>\n",
       "      <td>2017-11-30T14:17:03.000Z</td>\n",
       "      <td>beni affet dizi\"|\"ceren yalazoğlu\"|\"beni affet...</td>\n",
       "      <td>135708</td>\n",
       "      <td>False</td>\n",
       "      <td>False</td>\n",
       "    </tr>\n",
       "    <tr>\n",
       "      <th>3</th>\n",
       "      <td>3528</td>\n",
       "      <td>17.01.12</td>\n",
       "      <td>Essai Dacia Duster 2018 : 3 qualités et 3 défauts</td>\n",
       "      <td>L'argus</td>\n",
       "      <td>2</td>\n",
       "      <td>2017-11-30T09:37:15.000Z</td>\n",
       "      <td>dacia duster\"|\"suv\"|\"4x4\"|\"tout terrain\"|\"low ...</td>\n",
       "      <td>4669</td>\n",
       "      <td>False</td>\n",
       "      <td>False</td>\n",
       "    </tr>\n",
       "    <tr>\n",
       "      <th>4</th>\n",
       "      <td>3529</td>\n",
       "      <td>17.01.12</td>\n",
       "      <td>RDC -Départ de Kabila...En direct avec Ndeko E...</td>\n",
       "      <td>BOBO KOYANGBWA</td>\n",
       "      <td>25</td>\n",
       "      <td>2017-11-30T12:35:55.000Z</td>\n",
       "      <td>MPBTV\"|\"BOBO\"|\"MICRO DU PASTEUR BOBO\"|\"TOKOMI ...</td>\n",
       "      <td>12817</td>\n",
       "      <td>False</td>\n",
       "      <td>False</td>\n",
       "    </tr>\n",
       "    <tr>\n",
       "      <th>...</th>\n",
       "      <td>...</td>\n",
       "      <td>...</td>\n",
       "      <td>...</td>\n",
       "      <td>...</td>\n",
       "      <td>...</td>\n",
       "      <td>...</td>\n",
       "      <td>...</td>\n",
       "      <td>...</td>\n",
       "      <td>...</td>\n",
       "      <td>...</td>\n",
       "    </tr>\n",
       "    <tr>\n",
       "      <th>40719</th>\n",
       "      <td>37901</td>\n",
       "      <td>18.31.05</td>\n",
       "      <td>Kids United Nouvelle Génération - La Tendresse...</td>\n",
       "      <td>We Are Kids United</td>\n",
       "      <td>10</td>\n",
       "      <td>2018-05-30T07:55:38.000Z</td>\n",
       "      <td>kids united|\"kids\"|\"united\"|\"kids united nouve...</td>\n",
       "      <td>225258</td>\n",
       "      <td>False</td>\n",
       "      <td>False</td>\n",
       "    </tr>\n",
       "    <tr>\n",
       "      <th>40720</th>\n",
       "      <td>37900</td>\n",
       "      <td>18.31.05</td>\n",
       "      <td>Education : nous n'avons pas les mêmes valeurs...</td>\n",
       "      <td>Ça commence aujourd'hui</td>\n",
       "      <td>24</td>\n",
       "      <td>2018-05-30T13:30:00.000Z</td>\n",
       "      <td>famille|\"ça commence aujourd'hui\"|\"faustine bo...</td>\n",
       "      <td>26353</td>\n",
       "      <td>False</td>\n",
       "      <td>False</td>\n",
       "    </tr>\n",
       "    <tr>\n",
       "      <th>40721</th>\n",
       "      <td>37899</td>\n",
       "      <td>18.31.05</td>\n",
       "      <td>Khalass Rfm du 31 Mai 2018</td>\n",
       "      <td>MOUSSOU Assane DIOUF</td>\n",
       "      <td>22</td>\n",
       "      <td>2018-05-31T10:20:20.000Z</td>\n",
       "      <td>khalass|\"khalass rfm\"|\"khalass rfm du jour\"|\"K...</td>\n",
       "      <td>17001</td>\n",
       "      <td>False</td>\n",
       "      <td>False</td>\n",
       "    </tr>\n",
       "    <tr>\n",
       "      <th>40722</th>\n",
       "      <td>37873</td>\n",
       "      <td>18.31.05</td>\n",
       "      <td>Take A Mic - Strict Minimum 9 (Tracklist)</td>\n",
       "      <td>Take A Mic</td>\n",
       "      <td>10</td>\n",
       "      <td>2018-05-31T16:06:15.000Z</td>\n",
       "      <td>[none]</td>\n",
       "      <td>44926</td>\n",
       "      <td>False</td>\n",
       "      <td>False</td>\n",
       "    </tr>\n",
       "    <tr>\n",
       "      <th>40723</th>\n",
       "      <td>37977</td>\n",
       "      <td>18.31.05</td>\n",
       "      <td>SKAM FRANCE EP.9 S2 : Jeudi 12h21 - Mashallah.123</td>\n",
       "      <td>france tv slash</td>\n",
       "      <td>24</td>\n",
       "      <td>2018-05-31T10:15:00.000Z</td>\n",
       "      <td>slash|\"francetv\"|\"france télévision\"|\"skam\"|\"f...</td>\n",
       "      <td>13962</td>\n",
       "      <td>False</td>\n",
       "      <td>False</td>\n",
       "    </tr>\n",
       "  </tbody>\n",
       "</table>\n",
       "<p>40724 rows × 10 columns</p>\n",
       "</div>"
      ],
      "text/plain": [
       "       index trending_date                                              title  \\\n",
       "0       3398      17.01.12  Avengers : Infinity War - Première bande-annon...   \n",
       "1       3526      17.01.12  NBA EXTRA DÉBARQUE CHEZ FIRST TEAM ! NBA First...   \n",
       "2       3527      17.01.12                             Beni Affet 1266. Bölüm   \n",
       "3       3528      17.01.12  Essai Dacia Duster 2018 : 3 qualités et 3 défauts   \n",
       "4       3529      17.01.12  RDC -Départ de Kabila...En direct avec Ndeko E...   \n",
       "...      ...           ...                                                ...   \n",
       "40719  37901      18.31.05  Kids United Nouvelle Génération - La Tendresse...   \n",
       "40720  37900      18.31.05  Education : nous n'avons pas les mêmes valeurs...   \n",
       "40721  37899      18.31.05                         Khalass Rfm du 31 Mai 2018   \n",
       "40722  37873      18.31.05          Take A Mic - Strict Minimum 9 (Tracklist)   \n",
       "40723  37977      18.31.05  SKAM FRANCE EP.9 S2 : Jeudi 12h21 - Mashallah.123   \n",
       "\n",
       "                 channel_title  category_id              publish_time  \\\n",
       "0                    Marvel FR            1  2017-11-29T13:26:16.000Z   \n",
       "1                   FIRST TEAM           17  2017-11-30T16:56:25.000Z   \n",
       "2                   Beni Affet            1  2017-11-30T14:17:03.000Z   \n",
       "3                      L'argus            2  2017-11-30T09:37:15.000Z   \n",
       "4               BOBO KOYANGBWA           25  2017-11-30T12:35:55.000Z   \n",
       "...                        ...          ...                       ...   \n",
       "40719       We Are Kids United           10  2018-05-30T07:55:38.000Z   \n",
       "40720  Ça commence aujourd'hui           24  2018-05-30T13:30:00.000Z   \n",
       "40721     MOUSSOU Assane DIOUF           22  2018-05-31T10:20:20.000Z   \n",
       "40722               Take A Mic           10  2018-05-31T16:06:15.000Z   \n",
       "40723          france tv slash           24  2018-05-31T10:15:00.000Z   \n",
       "\n",
       "                                                    tags   views  \\\n",
       "0      Marvel\"|\"avengers infinity war\"|\"avengers 4\"|\"...  527655   \n",
       "1      first team\"|\"basket ball\"|\"basket\"|\"nba\"|\"dunk...   22867   \n",
       "2      beni affet dizi\"|\"ceren yalazoğlu\"|\"beni affet...  135708   \n",
       "3      dacia duster\"|\"suv\"|\"4x4\"|\"tout terrain\"|\"low ...    4669   \n",
       "4      MPBTV\"|\"BOBO\"|\"MICRO DU PASTEUR BOBO\"|\"TOKOMI ...   12817   \n",
       "...                                                  ...     ...   \n",
       "40719  kids united|\"kids\"|\"united\"|\"kids united nouve...  225258   \n",
       "40720  famille|\"ça commence aujourd'hui\"|\"faustine bo...   26353   \n",
       "40721  khalass|\"khalass rfm\"|\"khalass rfm du jour\"|\"K...   17001   \n",
       "40722                                             [none]   44926   \n",
       "40723  slash|\"francetv\"|\"france télévision\"|\"skam\"|\"f...   13962   \n",
       "\n",
       "       comments_disabled  ratings_disabled  \n",
       "0                  False             False  \n",
       "1                  False             False  \n",
       "2                  False             False  \n",
       "3                  False             False  \n",
       "4                  False             False  \n",
       "...                  ...               ...  \n",
       "40719              False             False  \n",
       "40720              False             False  \n",
       "40721              False             False  \n",
       "40722              False             False  \n",
       "40723              False             False  \n",
       "\n",
       "[40724 rows x 10 columns]"
      ]
     },
     "execution_count": 3,
     "metadata": {},
     "output_type": "execute_result"
    }
   ],
   "source": [
    "# count days of trending\n",
    "# trending_period = videos_clean.groupby(['video_id']).size().reset_index(name='trending_period')\n",
    "\n",
    "videos_clean = videos.drop(columns=['video_id','thumbnail_link','video_error_or_removed','dislikes','likes','comment_count','description'])\n",
    "\n",
    "# formating date\n",
    "\n",
    "#videos_clean['publish_time'] = pd.to_datetime(videos_clean['publish_time'], format='%Y-%m-%d')\n",
    "#videos_clean['trending_date'] = pd.to_datetime(videos['trending_date'], format='%y.%d.%m', utc=False)\n",
    "# drop duplicate and keep newest videos\n",
    "videos_clean = videos_clean.sort_values(by=['trending_date']).reset_index()\n",
    "videos_clean"
   ]
  },
  {
   "cell_type": "code",
   "execution_count": 4,
   "metadata": {},
   "outputs": [
    {
     "name": "stdout",
     "output_type": "stream",
     "text": [
      "419921.8506040664\n"
     ]
    }
   ],
   "source": [
    "print(videos_clean.views.mean())"
   ]
  },
  {
   "cell_type": "code",
   "execution_count": 8,
   "metadata": {},
   "outputs": [],
   "source": [
    "\"\"\"def convert(data):\n",
    "    number = preprocessing.LabelEncoder()\n",
    "    videos_clean['title'] = number.fit_transform(videos_clean.title)\n",
    "    videos_clean['channel_title'] = number.fit_transform(videos_clean.channel_title)\n",
    "    videos_clean['tags'] = number.fit_transform(videos_clean.tags)\n",
    "    videos_clean['publish_time'] = number.fit_transform(videos_clean.publish_time)\n",
    "    #videos_clean['description'] = number.fit_transform(videos_clean.description)\n",
    "    data=data.fillna(-999)\n",
    "    return data\n",
    "\"\"\"\n",
    "def convert(data):\n",
    "    number = preprocessing.LabelEncoder()\n",
    "    data['title'] = number.fit_transform(data.title)\n",
    "    data['channel_title'] = number.fit_transform(data.channel_title)\n",
    "    data['tags'] = number.fit_transform(data.tags)\n",
    "    data['publish_time'] = number.fit_transform(data.publish_time)\n",
    "    #videos_clean['description'] = number.fit_transform(videos_clean.description)\n",
    "    data=data.fillna(-999)\n",
    "    return data"
   ]
  },
  {
   "cell_type": "code",
   "execution_count": 9,
   "metadata": {},
   "outputs": [
    {
     "name": "stdout",
     "output_type": "stream",
     "text": [
      "       title  channel_title  category_id  publish_time   tags\n",
      "25401  15793           3706           10         20535   5270\n",
      "35880  22696           4539           24         14439   8141\n",
      "38857   2556           4345           25         18880   6475\n",
      "12753  18853           6103           22         19667   1563\n",
      "28549  11164           4063           24         25508  11906\n",
      "...      ...            ...          ...           ...    ...\n",
      "8806   12482           2922            1          6150  13172\n",
      "40635  30097           2716           26         27176  18091\n",
      "17539  21868            772            1         20198  10661\n",
      "26578  28857           6654           22         25241  21552\n",
      "27694  26208           6161           17          9113   9332\n",
      "\n",
      "[8145 rows x 5 columns]\n"
     ]
    }
   ],
   "source": [
    "y=videos_clean['views']\n",
    "X=convert(videos_clean)\n",
    "X=X.drop(['index','views','trending_date','ratings_disabled','comments_disabled'], axis = 1)\n",
    "\n",
    "\n",
    "X_train, X_test,y_train,y_test=train_test_split(X, y, test_size=0.2, random_state=2)\n",
    "print(X_test)"
   ]
  },
  {
   "cell_type": "markdown",
   "metadata": {},
   "source": [
    "# Le Random Forest Regressor\n",
    "\n"
   ]
  },
  {
   "cell_type": "code",
   "execution_count": 7,
   "metadata": {},
   "outputs": [
    {
     "name": "stdout",
     "output_type": "stream",
     "text": [
      "[210888.7985 154212.8645  26666.635  ...  28409.51   201995.265\n",
      "  99111.85  ]\n",
      "RMSE on test set using rf : 1187330.1205\n",
      "R² score on test set using rf : 0.6786\n"
     ]
    }
   ],
   "source": [
    "\n",
    "\n",
    "rf = RandomForestRegressor(n_estimators=100, max_depth=200,random_state=1)\n",
    "rf.fit(X_train, y_train)\n",
    "y_pred_rf = rf.predict(X_test)\n",
    "rmse_test = MSE( y_pred_rf, y_test)**(1/2)\n",
    "print(y_pred_rf)\n",
    "r2_score_rf = r2_score(y_test, y_pred_rf)\n",
    "        \n",
    "        \n",
    "print('RMSE on test set using rf : {:.4f}'.format(rmse_test))\n",
    "print('R² score on test set using rf : {:.4f}'.format(r2_score_rf))\n"
   ]
  },
  {
   "cell_type": "code",
   "execution_count": 16,
   "metadata": {},
   "outputs": [
    {
     "data": {
      "text/plain": [
       "<matplotlib.axes._subplots.AxesSubplot at 0x1b7b8106208>"
      ]
     },
     "execution_count": 16,
     "metadata": {},
     "output_type": "execute_result"
    },
    {
     "data": {
      "image/png": "[encoded data removed]",
      "text/plain": [
       "<Figure size 432x288 with 1 Axes>"
      ]
     },
     "metadata": {
      "needs_background": "light"
     },
     "output_type": "display_data"
    }
   ],
   "source": [
    "importances = pd.Series(index=X.columns, data=rf.feature_importances_)\n",
    "\n",
    "importances_sorted = importances.sort_values()\n",
    "\n",
    "importances_sorted.plot(kind = 'barh', color='lightgreen')"
   ]
  },
  {
   "cell_type": "code",
   "execution_count": 54,
   "metadata": {},
   "outputs": [
    {
     "data": {
      "image/png": "[encoded data removed]",
      "text/plain": [
       "<Figure size 432x288 with 1 Axes>"
      ]
     },
     "metadata": {
      "needs_background": "light"
     },
     "output_type": "display_data"
    }
   ],
   "source": [
    "fig, ax = plt.subplots()\n",
    "ax.scatter(y_test, y_pred_rf)\n",
    "ax.plot([y_test.min(), y_test.max()], [y_test.min(), y_test.max()], 'k--', lw=4)\n",
    "ax.set_xlabel('Measured')\n",
    "ax.set_ylabel('Predicted')\n",
    "plt.show()"
   ]
  },
  {
   "cell_type": "markdown",
   "metadata": {},
   "source": [
    "# Le KneighborsRegressor\n"
   ]
  },
  {
   "cell_type": "code",
   "execution_count": 18,
   "metadata": {
    "scrolled": true
   },
   "outputs": [
    {
     "name": "stdout",
     "output_type": "stream",
     "text": [
      "[  7065.   2834.   8821. ...   3972.  60758. 100193.]\n",
      "RMSE on test set using knr  : 1331226.2565\n",
      "R² score on test set using knr : 0.6786\n"
     ]
    }
   ],
   "source": [
    "\n",
    "\n",
    "knr = KNeighborsRegressor(n_neighbors=1)\n",
    "knr.fit(X_train, y_train)\n",
    "y_pred_knr = knr.predict(X_test)\n",
    "print(y_pred_knr)\n",
    "rmse_test_knr = MSE(y_test, y_pred_knr)**(1/2)\n",
    "\n",
    "r2_score_knr = r2_score(y_test, y_pred_knr)\n",
    "\n",
    "\n",
    "print('RMSE on test set using knr  : {:.4f}'.format(rmse_test_knr))\n",
    "print('R² score on test set using knr : {:.4f}'.format(r2_score_rf))\n",
    "    \n",
    "    \n"
   ]
  },
  {
   "cell_type": "code",
   "execution_count": 60,
   "metadata": {},
   "outputs": [
    {
     "data": {
      "image/png": "[encoded data removed]",
      "text/plain": [
       "<Figure size 432x288 with 1 Axes>"
      ]
     },
     "metadata": {
      "needs_background": "light"
     },
     "output_type": "display_data"
    }
   ],
   "source": [
    "fig, ax = plt.subplots()\n",
    "ax.scatter(y_test, y_pred_knr)\n",
    "ax.plot([y_test.min(), y_test.max()], [y_test.min(), y_test.max()], 'k--', lw=4)\n",
    "ax.set_xlabel('Measured')\n",
    "ax.set_ylabel('Predicted')\n",
    "plt.show()"
   ]
  },
  {
   "cell_type": "markdown",
   "metadata": {},
   "source": [
    "# La Linear Regression"
   ]
  },
  {
   "cell_type": "code",
   "execution_count": 57,
   "metadata": {},
   "outputs": [
    {
     "name": "stdout",
     "output_type": "stream",
     "text": [
      "RMSE on test set using reg : 2087925.9027\n",
      "R² score on test set using reg : 0.0062\n"
     ]
    }
   ],
   "source": [
    "reg = LinearRegression()\n",
    "reg.fit(X_train, y_train)\n",
    "y_pred_reg = reg.predict(X_test)\n",
    "rmse_test_reg = MSE(y_test, y_pred_reg)**(1/2)\n",
    "r2_score_reg = r2_score(y_test, y_pred_reg)\n",
    "\n",
    "print('RMSE on test set using reg : {:.4f}'.format(rmse_test_reg))\n",
    "print('R² score on test set using reg : {:.4f}'.format(r2_score_reg))\n"
   ]
  },
  {
   "cell_type": "code",
   "execution_count": 58,
   "metadata": {},
   "outputs": [
    {
     "data": {
      "image/png": "[encoded data removed]",
      "text/plain": [
       "<Figure size 432x288 with 1 Axes>"
      ]
     },
     "metadata": {
      "needs_background": "light"
     },
     "output_type": "display_data"
    }
   ],
   "source": [
    "fig, ax = plt.subplots()\n",
    "ax.scatter(y_test, y_pred_reg)\n",
    "ax.plot([y_test.min(), y_test.max()], [y_test.min(), y_test.max()], 'k--', lw=4)\n",
    "ax.set_xlabel('Measured')\n",
    "ax.set_ylabel('Predicted')\n",
    "plt.show()"
   ]
  },
  {
   "cell_type": "code",
   "execution_count": 72,
   "metadata": {},
   "outputs": [
    {
     "data": {
      "image/png": "[encoded data removed]",
      "text/plain": [
       "<Figure size 432x288 with 1 Axes>"
      ]
     },
     "metadata": {
      "needs_background": "light"
     },
     "output_type": "display_data"
    }
   ],
   "source": [
    "fig, ax = plt.subplots()\n",
    "\n",
    "ax.scatter(y_test, y_pred_reg)\n",
    "a=ax.plot([y_test.min(), y_test.max()], [y_test.min(), y_test.max()], 'k--', lw=4, color = \"blue\", label = \"linear regression\")\n",
    "ax.scatter(y_test, y_pred_knr)\n",
    "b=ax.plot([y_test.min(), y_test.max()], [y_test.min(), y_test.max()], 'k--', lw=4, color = \"orange\", label = \"k neighbors\")\n",
    "ax.scatter(y_test, y_pred_rf)\n",
    "c=ax.plot([y_test.min(), y_test.max()], [y_test.min(), y_test.max()], 'k--', lw=4, color = \"green\", label = \"random forest\")\n",
    "plt.legend()\n",
    "ax.set_xlabel('Measured')\n",
    "ax.set_ylabel('Predicted')\n",
    "plt.show()"
   ]
  },
  {
   "cell_type": "code",
   "execution_count": null,
   "metadata": {},
   "outputs": [],
   "source": []
  }
 ],
 "metadata": {
  "kernelspec": {
   "display_name": "Python 3",
   "language": "python",
   "name": "python3"
  },
  "language_info": {
   "codemirror_mode": {
    "name": "ipython",
    "version": 3
   },
   "file_extension": ".py",
   "mimetype": "text/x-python",
   "name": "python",
   "nbconvert_exporter": "python",
   "pygments_lexer": "ipython3",
   "version": "3.7.6"
  }
 },
 "nbformat": 4,
 "nbformat_minor": 4
}
